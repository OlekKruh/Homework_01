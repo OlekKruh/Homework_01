{
 "cells": [
  {
   "cell_type": "code",
   "execution_count": 1,
   "id": "8671cc5a-ee64-4468-95d0-71cafe28bb89",
   "metadata": {},
   "outputs": [],
   "source": [
    "import numpy as np"
   ]
  },
  {
   "cell_type": "markdown",
   "id": "58066044-8905-4cfe-9a8b-c65b1cab9635",
   "metadata": {},
   "source": [
    "# 1 One-dimensional array"
   ]
  },
  {
   "cell_type": "code",
   "execution_count": 2,
   "id": "ef802b37-4d33-4967-9df3-d2de1bb7e062",
   "metadata": {},
   "outputs": [
    {
     "name": "stdout",
     "output_type": "stream",
     "text": [
      "One dimensional integer array.\n",
      "[ 1  2  3  4  5  6  7  8  9 10]\n"
     ]
    }
   ],
   "source": [
    "vector = np.arange(1, 11)\n",
    "\n",
    "print(f'One dimensional integer array:')\n",
    "print(vector)"
   ]
  },
  {
   "cell_type": "markdown",
   "id": "111c3fc7-117f-4c61-b6e0-7f9ee3d4f5a3",
   "metadata": {},
   "source": [
    "# 2 Zero matrix"
   ]
  },
  {
   "cell_type": "code",
   "execution_count": 3,
   "id": "a00981e2-59f2-441a-ab48-174286371391",
   "metadata": {},
   "outputs": [
    {
     "name": "stdout",
     "output_type": "stream",
     "text": [
      "Zero Matrix 3x3:\n",
      "[[0. 0. 0.]\n",
      " [0. 0. 0.]\n",
      " [0. 0. 0.]]\n"
     ]
    }
   ],
   "source": [
    "matrix = np.zeros((3, 3))\n",
    "\n",
    "print(f'Zero Matrix 3x3:')\n",
    "print(matrix)"
   ]
  },
  {
   "cell_type": "markdown",
   "id": "558af8d4-8108-4134-86c0-50e0883e8786",
   "metadata": {},
   "source": [
    "# 3 Random matrix 5x5"
   ]
  },
  {
   "cell_type": "code",
   "execution_count": 10,
   "id": "41168a1a-23c7-430a-b7df-0f52d0d7dce0",
   "metadata": {},
   "outputs": [
    {
     "name": "stdout",
     "output_type": "stream",
     "text": [
      "Random matrix 5x5:\n",
      "[[0 7 7 7 9]\n",
      " [6 7 9 8 9]\n",
      " [1 4 3 0 5]\n",
      " [0 5 0 8 2]\n",
      " [9 4 1 8 3]]\n"
     ]
    }
   ],
   "source": [
    "random_matrix = np.random.randint(0, 10, size=(5, 5))\n",
    "\n",
    "print(f'Random matrix 5x5:')\n",
    "print(random_matrix)"
   ]
  },
  {
   "cell_type": "markdown",
   "id": "37647385-3831-46c6-9ccd-49025e2b3f69",
   "metadata": {},
   "source": [
    "# 4 Random real matrix 4x4"
   ]
  },
  {
   "cell_type": "code",
   "execution_count": 14,
   "id": "dcdaca78-07c0-4d62-88b6-c9a15d1208ea",
   "metadata": {},
   "outputs": [
    {
     "name": "stdout",
     "output_type": "stream",
     "text": [
      "Random real matrix 4x4:\n",
      "[[0.53 0.17 0.12 0.29]\n",
      " [0.45 0.05 0.4  0.17]\n",
      " [0.52 0.56 0.14 0.16]\n",
      " [0.94 0.89 0.66 0.95]]\n"
     ]
    }
   ],
   "source": [
    "random_matrix = np.random.rand(4, 4)\n",
    "np.set_printoptions(precision=2)\n",
    "\n",
    "print(f'Random real matrix 4x4:')\n",
    "print(random_matrix)"
   ]
  },
  {
   "cell_type": "markdown",
   "id": "3a122fa7-a26f-45d5-a1fe-94223b769871",
   "metadata": {},
   "source": [
    "# Two one-dimensional matrix of length 5. Addition, Subtraction, Multiplication."
   ]
  },
  {
   "cell_type": "code",
   "execution_count": 21,
   "id": "e2004fc6-14a2-4a02-9041-3a7639eb72f9",
   "metadata": {},
   "outputs": [
    {
     "name": "stdout",
     "output_type": "stream",
     "text": [
      "Matrix 1:\n",
      "[0 3 0 2 6]\n",
      "Matrix 2:\n",
      "[2 3 5 8 5]\n",
      "Addition:\n",
      "[ 2  6  5 10 11]\n",
      "Subtraction:\n",
      "[-2  0 -5 -6  1]\n",
      "Multiplication:\n",
      "[ 0  9  0 16 30]\n"
     ]
    }
   ],
   "source": [
    "matrix_1 = np.random.randint(0, 10, size=(5,))\n",
    "matrix_2 = np.random.randint(0, 10, size=(5,))\n",
    "\n",
    "print(f'Matrix 1:')\n",
    "print(matrix_1)\n",
    "print(f'Matrix 2:')\n",
    "print(matrix_2)\n",
    "\n",
    "add = matrix_1 + matrix_2\n",
    "print(f'Addition:')\n",
    "print(add)\n",
    "\n",
    "sub = matrix_1 - matrix_2\n",
    "print(f'Subtraction:')\n",
    "print(sub)\n",
    "\n",
    "mult = matrix_1 * matrix_2\n",
    "print(f'Multiplication:')\n",
    "print(mult)"
   ]
  },
  {
   "cell_type": "code",
   "execution_count": null,
   "id": "955eb5e2-17e8-4ca5-9a5d-a9d0fa6a5cea",
   "metadata": {},
   "outputs": [],
   "source": []
  }
 ],
 "metadata": {
  "kernelspec": {
   "display_name": "Python 3 (ipykernel)",
   "language": "python",
   "name": "python3"
  },
  "language_info": {
   "codemirror_mode": {
    "name": "ipython",
    "version": 3
   },
   "file_extension": ".py",
   "mimetype": "text/x-python",
   "name": "python",
   "nbconvert_exporter": "python",
   "pygments_lexer": "ipython3",
   "version": "3.12.1"
  }
 },
 "nbformat": 4,
 "nbformat_minor": 5
}
