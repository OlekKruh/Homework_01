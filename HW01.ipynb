{
 "cells": [
  {
   "cell_type": "code",
   "execution_count": 1,
   "id": "8671cc5a-ee64-4468-95d0-71cafe28bb89",
   "metadata": {},
   "outputs": [],
   "source": [
    "import numpy as np"
   ]
  },
  {
   "cell_type": "markdown",
   "id": "58066044-8905-4cfe-9a8b-c65b1cab9635",
   "metadata": {},
   "source": [
    "# 1. One-dimensional array"
   ]
  },
  {
   "cell_type": "code",
   "execution_count": 2,
   "id": "ef802b37-4d33-4967-9df3-d2de1bb7e062",
   "metadata": {},
   "outputs": [
    {
     "name": "stdout",
     "output_type": "stream",
     "text": [
      "One dimensional integer array:\n",
      "[ 1  2  3  4  5  6  7  8  9 10]\n"
     ]
    }
   ],
   "source": [
    "vector = np.arange(1, 11)\n",
    "\n",
    "print(f'One dimensional integer array:')\n",
    "print(vector)"
   ]
  },
  {
   "cell_type": "markdown",
   "id": "111c3fc7-117f-4c61-b6e0-7f9ee3d4f5a3",
   "metadata": {},
   "source": [
    "# 2. Zero matrix"
   ]
  },
  {
   "cell_type": "code",
   "execution_count": 3,
   "id": "a00981e2-59f2-441a-ab48-174286371391",
   "metadata": {},
   "outputs": [
    {
     "name": "stdout",
     "output_type": "stream",
     "text": [
      "Zero Matrix 3x3:\n",
      "[[0. 0. 0.]\n",
      " [0. 0. 0.]\n",
      " [0. 0. 0.]]\n"
     ]
    }
   ],
   "source": [
    "matrix = np.zeros((3, 3))\n",
    "\n",
    "print(f'Zero Matrix 3x3:')\n",
    "print(matrix)"
   ]
  },
  {
   "cell_type": "markdown",
   "id": "558af8d4-8108-4134-86c0-50e0883e8786",
   "metadata": {},
   "source": [
    "# 3. Random matrix 5x5"
   ]
  },
  {
   "cell_type": "code",
   "execution_count": 4,
   "id": "41168a1a-23c7-430a-b7df-0f52d0d7dce0",
   "metadata": {},
   "outputs": [
    {
     "name": "stdout",
     "output_type": "stream",
     "text": [
      "Random matrix 5x5:\n",
      "[[4 8 8 7 3]\n",
      " [8 8 7 8 7]\n",
      " [4 7 7 8 6]\n",
      " [9 5 4 5 5]\n",
      " [5 2 9 0 0]]\n"
     ]
    }
   ],
   "source": [
    "random_matrix = np.random.randint(0, 10, size=(5, 5))\n",
    "\n",
    "print(f'Random matrix 5x5:')\n",
    "print(random_matrix)"
   ]
  },
  {
   "cell_type": "markdown",
   "id": "37647385-3831-46c6-9ccd-49025e2b3f69",
   "metadata": {},
   "source": [
    "# 4. Random real matrix 4x4"
   ]
  },
  {
   "cell_type": "code",
   "execution_count": 5,
   "id": "dcdaca78-07c0-4d62-88b6-c9a15d1208ea",
   "metadata": {},
   "outputs": [
    {
     "name": "stdout",
     "output_type": "stream",
     "text": [
      "Random real matrix 4x4:\n",
      "[[0.95 0.95 0.67 0.01]\n",
      " [0.13 0.01 0.44 0.38]\n",
      " [0.15 0.55 0.16 0.28]\n",
      " [0.96 0.65 0.4  0.23]]\n"
     ]
    }
   ],
   "source": [
    "random_matrix = np.random.rand(4, 4)\n",
    "np.set_printoptions(precision=2)\n",
    "\n",
    "print(f'Random real matrix 4x4:')\n",
    "print(random_matrix)"
   ]
  },
  {
   "cell_type": "markdown",
   "id": "3a122fa7-a26f-45d5-a1fe-94223b769871",
   "metadata": {},
   "source": [
    "# 5. Two one-dimensional matrix of length 5. Addition, Subtraction, Multiplication."
   ]
  },
  {
   "cell_type": "code",
   "execution_count": 6,
   "id": "e2004fc6-14a2-4a02-9041-3a7639eb72f9",
   "metadata": {},
   "outputs": [
    {
     "name": "stdout",
     "output_type": "stream",
     "text": [
      "Original Matrix 1:\n",
      "[9 6 2 3 6]\n",
      "Original Matrix 2:\n",
      "[8 7 6 2 8]\n",
      "Addition:\n",
      "[17 13  8  5 14]\n",
      "Subtraction:\n",
      "[ 1 -1 -4  1 -2]\n",
      "Multiplication:\n",
      "[72 42 12  6 48]\n"
     ]
    }
   ],
   "source": [
    "matrix_1 = np.random.randint(0, 10, size=(5,))\n",
    "matrix_2 = np.random.randint(0, 10, size=(5,))\n",
    "\n",
    "print(f'Original Matrix 1:')\n",
    "print(matrix_1)\n",
    "print(f'Original Matrix 2:')\n",
    "print(matrix_2)\n",
    "\n",
    "add = matrix_1 + matrix_2\n",
    "print(f'Addition:')\n",
    "print(add)\n",
    "\n",
    "sub = matrix_1 - matrix_2\n",
    "print(f'Subtraction:')\n",
    "print(sub)\n",
    "\n",
    "mult = matrix_1 * matrix_2\n",
    "print(f'Multiplication:')\n",
    "print(mult)"
   ]
  },
  {
   "cell_type": "markdown",
   "id": "5c666fa9-e75f-4d7e-879b-afbdbaba24e2",
   "metadata": {},
   "source": [
    "# 6. Two random vectors of size 7, dot product."
   ]
  },
  {
   "cell_type": "code",
   "execution_count": 7,
   "id": "64f62dff-7e42-4982-a5ef-2afca51b463f",
   "metadata": {},
   "outputs": [
    {
     "name": "stdout",
     "output_type": "stream",
     "text": [
      "Original Vector 1:\n",
      "[0.1  0.06 0.21 0.99 0.14 0.09 0.96]\n",
      "Original Vector 2:\n",
      "[0.62 0.55 0.65 0.18 0.92 0.11 0.25]\n",
      "The dot product of two vectors:\n",
      "0.79\n"
     ]
    }
   ],
   "source": [
    "vector_1 = np.random.rand(7)\n",
    "vector_2 = np.random.rand(7)\n",
    "print(f'Original Vector 1:')\n",
    "print(vector_1)\n",
    "print(f'Original Vector 2:')\n",
    "print(vector_2)\n",
    "result = np.dot(vector_1, vector_2)\n",
    "print(f'The dot product of two vectors:')\n",
    "print(f'{result:.2f}')"
   ]
  },
  {
   "cell_type": "markdown",
   "id": "f3a8e1ab-d0fc-4647-b6ae-1a565969a089",
   "metadata": {},
   "source": [
    "# 7. Two random matrices of size 2x2 and 2x3, integers between 1 and 10, multiplication."
   ]
  },
  {
   "cell_type": "code",
   "execution_count": 8,
   "id": "c6733b12-e737-45e6-b388-cbbbaff87d1b",
   "metadata": {},
   "outputs": [
    {
     "name": "stdout",
     "output_type": "stream",
     "text": [
      "Original Matrix 1:\n",
      "[[9 6]\n",
      " [4 5]]\n",
      "Original Matrix 2:\n",
      "[[6 7 1]\n",
      " [9 5 6]]\n",
      "Multiplication of two matrix 2x2 and 2x3:\n",
      "[[108  93  45]\n",
      " [ 69  53  34]]\n"
     ]
    }
   ],
   "source": [
    "matrix_1 = np.random.randint(1, 10, size=(2,2))\n",
    "matrix_2 = np.random.randint(1, 10, size=(2,3))\n",
    "\n",
    "print(f'Original Matrix 1:')\n",
    "print(matrix_1)\n",
    "print(f'Original Matrix 2:')\n",
    "print(matrix_2)\n",
    "mult = np.dot(matrix_1, matrix_2)\n",
    "print(f'Multiplication of two matrix 2x2 and 2x3:')\n",
    "print(mult)"
   ]
  },
  {
   "cell_type": "markdown",
   "id": "6692ec77-5993-45f2-bd79-8af4f9df5b8e",
   "metadata": {},
   "source": [
    "# 8. Random matrices of size 3x3, integers between 1 and 10, find inverse."
   ]
  },
  {
   "cell_type": "code",
   "execution_count": 9,
   "id": "943f4e2a-d7b5-49ea-a219-4051a86111e1",
   "metadata": {},
   "outputs": [
    {
     "name": "stdout",
     "output_type": "stream",
     "text": [
      "Original Matrix:\n",
      "[[2 2 5]\n",
      " [9 6 8]\n",
      " [3 8 5]]\n",
      "Inverted matrix:\n",
      "[[-0.21  0.19 -0.09]\n",
      " [-0.13 -0.03  0.18]\n",
      " [ 0.34 -0.06 -0.04]]\n"
     ]
    }
   ],
   "source": [
    "matrix = np.random.randint(1, 10, size=(3, 3))\n",
    "invert = np.linalg.inv(matrix)\n",
    "\n",
    "np.set_printoptions(precision=2, suppress=True)\n",
    "\n",
    "print(f'Original Matrix:')\n",
    "print(matrix)\n",
    "print(f'Inverted matrix:')\n",
    "print(invert)"
   ]
  },
  {
   "cell_type": "markdown",
   "id": "120d68ff-7663-4bac-b96a-b53c2cf5fa0d",
   "metadata": {},
   "source": [
    "# 9. Random matrices of size 4x4, fill with real numbers between 0 and 1, transposition."
   ]
  },
  {
   "cell_type": "code",
   "execution_count": 10,
   "id": "c70ac2d5-43bd-47e9-b0ea-79256f534d87",
   "metadata": {},
   "outputs": [
    {
     "name": "stdout",
     "output_type": "stream",
     "text": [
      "Original Matrix:\n",
      "[[0.14 0.09 0.01 0.32]\n",
      " [0.88 0.77 0.7  0.23]\n",
      " [0.84 0.81 0.17 0.46]\n",
      " [0.22 0.59 0.43 0.94]]\n",
      "Transposed Matrix:\n",
      "[[0.14 0.88 0.84 0.22]\n",
      " [0.09 0.77 0.81 0.59]\n",
      " [0.01 0.7  0.17 0.43]\n",
      " [0.32 0.23 0.46 0.94]]\n"
     ]
    }
   ],
   "source": [
    "matrix = np.random.rand(4,4)\n",
    "transp = matrix.T\n",
    "\n",
    "print(f'Original Matrix:')\n",
    "print(matrix)\n",
    "print(f'Transposed Matrix:')\n",
    "print(transp)"
   ]
  },
  {
   "cell_type": "markdown",
   "id": "46ce3e6e-00ea-406c-943e-2caffcd75da4",
   "metadata": {},
   "source": [
    "# 10. Random matrix 3x4 and vector 4, fill with real numbers between 1 and 10, multiply matrix by vector."
   ]
  },
  {
   "cell_type": "code",
   "execution_count": 12,
   "id": "8d13e218-d68c-4bf3-9b14-a6f11ed50425",
   "metadata": {},
   "outputs": [
    {
     "name": "stdout",
     "output_type": "stream",
     "text": [
      "Original Matrix:\n",
      "[[ 3  7  7  2]\n",
      " [ 3 10  2 10]\n",
      " [ 9 10  8  7]]\n",
      "Original Vector:\n",
      "[10  1  5  4]\n",
      "Multiply result:\n",
      "[ 80  90 168]\n"
     ]
    }
   ],
   "source": [
    "matrix = np.random.randint(1, 11, size=(3, 4))\n",
    "vector = np.random.randint(1, 11, size=(4,))\n",
    "\n",
    "result = np.dot(matrix, vector)\n",
    "\n",
    "print(f'Original Matrix:')\n",
    "print(matrix)\n",
    "print(f'Original Vector:')\n",
    "print(vector)\n",
    "print(f'Multiply result:')\n",
    "print(result)"
   ]
  },
  {
   "cell_type": "markdown",
   "id": "7730a4a0-bbf2-4d7b-8b43-b3dfc9d2407d",
   "metadata": {},
   "source": [
    "# 11. Random matrix 2x3 and vector 3, fill with real numbers between 0 and 1, multiply matrix by vector."
   ]
  },
  {
   "cell_type": "code",
   "execution_count": 13,
   "id": "1e3b5a18-93ef-44c4-ab49-a67b5a770f75",
   "metadata": {},
   "outputs": [
    {
     "name": "stdout",
     "output_type": "stream",
     "text": [
      "Original Matrix:\n",
      "[[0.93 0.93 0.4 ]\n",
      " [0.8  0.65 0.12]]\n",
      "Original Vector:\n",
      "[0.25 0.07 0.51]\n",
      "Multiply result:\n",
      "[0.51 0.31]\n"
     ]
    }
   ],
   "source": [
    "matrix = np.random.rand(2, 3)\n",
    "vector = np.random.rand(3,)\n",
    "\n",
    "result = np.dot(matrix, vector)\n",
    "\n",
    "print(f'Original Matrix:')\n",
    "print(matrix)\n",
    "print(f'Original Vector:')\n",
    "print(vector)\n",
    "print(f'Multiply result:')\n",
    "print(result)"
   ]
  },
  {
   "cell_type": "markdown",
   "id": "a7a0486f-a0bf-4eac-b6d7-7d769b255b70",
   "metadata": {},
   "source": [
    "# 12. Random matrix 2x2, fill with real numbers between 1 and 10, multiply."
   ]
  },
  {
   "cell_type": "code",
   "execution_count": 15,
   "id": "8f5445aa-ea7d-4bb5-9992-a81d364b3d1f",
   "metadata": {},
   "outputs": [
    {
     "name": "stdout",
     "output_type": "stream",
     "text": [
      "Original Matrix 1:\n",
      "[[1 6]\n",
      " [4 8]]\n",
      "Original Matrix 2:\n",
      "[[2 3]\n",
      " [7 2]]\n",
      "Multiplication of two matrix 2x2 and 2x3:\n",
      "[[ 2 18]\n",
      " [28 16]]\n"
     ]
    }
   ],
   "source": [
    "matrix_1 = np.random.randint(1, 10, size=(2,2))\n",
    "matrix_2 = np.random.randint(1, 10, size=(2,2))\n",
    "\n",
    "print(f'Original Matrix 1:')\n",
    "print(matrix_1)\n",
    "print(f'Original Matrix 2:')\n",
    "print(matrix_2)\n",
    "mult = matrix_1 * matrix_2\n",
    "print(f'Multiplication of two matrix 2x2 and 2x3:')\n",
    "print(mult)"
   ]
  },
  {
   "cell_type": "markdown",
   "id": "ff7a7913-847f-4dfa-be0d-9c5bfd034f25",
   "metadata": {},
   "source": [
    "# 13. Random matrix 2x2, fill with real numbers between 1 and 10, find their product."
   ]
  },
  {
   "cell_type": "code",
   "execution_count": 16,
   "id": "a7423bf5-a179-40ff-8f92-2c8b9918c68f",
   "metadata": {},
   "outputs": [
    {
     "name": "stdout",
     "output_type": "stream",
     "text": [
      "Original Matrix 1:\n",
      "[[9 1]\n",
      " [6 7]]\n",
      "Original Matrix 2:\n",
      "[[5 5]\n",
      " [7 2]]\n",
      "Multiplication of two matrix 2x2 and 2x3:\n",
      "[[52 47]\n",
      " [79 44]]\n"
     ]
    }
   ],
   "source": [
    "matrix_1 = np.random.randint(1, 10, size=(2,2))\n",
    "matrix_2 = np.random.randint(1, 10, size=(2,2))\n",
    "\n",
    "print(f'Original Matrix 1:')\n",
    "print(matrix_1)\n",
    "print(f'Original Matrix 2:')\n",
    "print(matrix_2)\n",
    "mult = np.dot(matrix_1, matrix_2)\n",
    "print(f'Multiplication of two matrix 2x2 and 2x3:')\n",
    "print(mult)"
   ]
  },
  {
   "cell_type": "markdown",
   "id": "54ca4e7b-fbea-444c-ae50-66e076f69d06",
   "metadata": {},
   "source": [
    "# 14. Random matrix 5x5, fill with real numbers between 1 and 100, sum."
   ]
  },
  {
   "cell_type": "code",
   "execution_count": 18,
   "id": "712e63fe-54af-4486-9844-67d54fb42d01",
   "metadata": {},
   "outputs": [
    {
     "name": "stdout",
     "output_type": "stream",
     "text": [
      "Original Matrix:\n",
      "[[92 18 98 87 13]\n",
      " [92 75 30 87 91]\n",
      " [31 71 72 26 27]\n",
      " [69 87 30 20 28]\n",
      " [28 32 11  9 20]]\n",
      "Result:\n",
      "98\n"
     ]
    }
   ],
   "source": [
    "matrix = np.random.randint(1, 100, size=(5,5))\n",
    "result = matrix.max()\n",
    "\n",
    "print(f'Original Matrix:')\n",
    "print(matrix)\n",
    "print(f'Result:')\n",
    "print(result)"
   ]
  },
  {
   "cell_type": "markdown",
   "id": "f3884f86-7361-4b81-9df0-95599432b2a4",
   "metadata": {},
   "source": [
    "# 15. Random matrix 4x4, fill with real numbers between 1 and 10, find difference."
   ]
  },
  {
   "cell_type": "code",
   "execution_count": 21,
   "id": "4a28663f-81e9-4bf4-8993-f925dc02807d",
   "metadata": {},
   "outputs": [
    {
     "name": "stdout",
     "output_type": "stream",
     "text": [
      "Original Matrix 1:\n",
      "[[7 3 7 6]\n",
      " [9 2 2 8]\n",
      " [7 8 6 5]\n",
      " [6 1 2 8]]\n",
      "Original Matrix 2:\n",
      "[[9 3 1 1]\n",
      " [3 8 1 5]\n",
      " [1 2 7 7]\n",
      " [1 9 9 3]]\n",
      "Difference:\n",
      "[[-2  0  6  5]\n",
      " [ 6 -6  1  3]\n",
      " [ 6  6 -1 -2]\n",
      " [ 5 -8 -7  5]]\n"
     ]
    }
   ],
   "source": [
    "matrix_1 = np.random.randint(1, 10, size=(4,4))\n",
    "matrix_2 = np.random.randint(1, 10, size=(4,4))\n",
    "diff = matrix_1 - matrix_2\n",
    "\n",
    "print(f'Original Matrix 1:')\n",
    "print(matrix_1)\n",
    "print(f'Original Matrix 2:')\n",
    "print(matrix_2)\n",
    "print(f'Difference:')\n",
    "print(diff)"
   ]
  },
  {
   "cell_type": "markdown",
   "id": "f156e681-79c5-4835-bc07-cb3fff27ebdd",
   "metadata": {},
   "source": [
    "# 16. Random matrix 3x3, fill with real numbers between 0 and 1, find a column vector containing the sum of the elements of each row of the matrix."
   ]
  },
  {
   "cell_type": "code",
   "execution_count": 23,
   "id": "1e287acb-52e5-4ccd-bcfb-82170e661c04",
   "metadata": {},
   "outputs": [
    {
     "name": "stdout",
     "output_type": "stream",
     "text": [
      "Original Matrix:\n",
      "[[0.94 0.13 0.65]\n",
      " [0.78 0.82 0.48]\n",
      " [0.01 0.57 0.36]]\n",
      "Row sums:\n",
      "[1.72 2.08 0.94]\n",
      "Column vector with sum of elements in each row:\n",
      "[[1.72]\n",
      " [2.08]\n",
      " [0.94]]\n"
     ]
    }
   ],
   "source": [
    "matrix = np.random.rand(3, 3)\n",
    "\n",
    "row_sums = matrix.sum(axis=1)\n",
    "column_vector = row_sums.reshape(-1, 1)\n",
    "\n",
    "print(f'Original Matrix:')\n",
    "print(matrix)\n",
    "print(f'Row sums:')\n",
    "print(row_sums)\n",
    "print(f'Column vector with sum of elements in each row:')\n",
    "print(column_vector)"
   ]
  },
  {
   "cell_type": "markdown",
   "id": "1750321d-c8af-43ca-b403-74b8a8f2b256",
   "metadata": {},
   "source": [
    "# 17. Random matrix 3x3, create a matrix with the squares of these numbers."
   ]
  },
  {
   "cell_type": "code",
   "execution_count": 24,
   "id": "2b0f7136-10fe-4ee5-ac60-c57bdc1d4c8e",
   "metadata": {},
   "outputs": [
    {
     "name": "stdout",
     "output_type": "stream",
     "text": [
      "Original Matrix (3x4):\n",
      "[[10  7  8  1]\n",
      " [ 2  1  4  6]\n",
      " [10  1  9  5]]\n",
      "Matrix with squares of the elements:\n",
      "[[100  49  64   1]\n",
      " [  4   1  16  36]\n",
      " [100   1  81  25]]\n"
     ]
    }
   ],
   "source": [
    "matrix = np.random.randint(1, 11, size=(3, 4))\n",
    "\n",
    "squared_matrix = matrix ** 2\n",
    "\n",
    "print(f'Original Matrix (3x4):')\n",
    "print(matrix)\n",
    "print(f'Matrix with squares of the elements:')\n",
    "print(squared_matrix)"
   ]
  },
  {
   "cell_type": "markdown",
   "id": "f9d18649-2f0d-4dd3-bd22-3a0ddf58a230",
   "metadata": {},
   "source": [
    "# 18. Random vector 4, fill with real numbers between 1 and 50, find the vector of square roots of these numbers."
   ]
  },
  {
   "cell_type": "code",
   "execution_count": 25,
   "id": "b3a7a760-c041-4858-8c38-30cd6eb586c9",
   "metadata": {},
   "outputs": [
    {
     "name": "stdout",
     "output_type": "stream",
     "text": [
      "Original Vector:\n",
      "[41 20 37 45]\n",
      "Vector of square roots:\n",
      "[6.4  4.47 6.08 6.71]\n"
     ]
    }
   ],
   "source": [
    "vector = np.random.randint(1, 51, size=4)\n",
    "\n",
    "sqrt_vector = np.sqrt(vector)\n",
    "\n",
    "print(f'Original Vector:')\n",
    "print(vector)\n",
    "print(f'Vector of square roots:')\n",
    "print(sqrt_vector)"
   ]
  },
  {
   "cell_type": "code",
   "execution_count": null,
   "id": "ca4a22f9-aebe-4c93-b0ec-49a8f39f6056",
   "metadata": {},
   "outputs": [],
   "source": []
  }
 ],
 "metadata": {
  "kernelspec": {
   "display_name": "Python 3 (ipykernel)",
   "language": "python",
   "name": "python3"
  },
  "language_info": {
   "codemirror_mode": {
    "name": "ipython",
    "version": 3
   },
   "file_extension": ".py",
   "mimetype": "text/x-python",
   "name": "python",
   "nbconvert_exporter": "python",
   "pygments_lexer": "ipython3",
   "version": "3.12.1"
  }
 },
 "nbformat": 4,
 "nbformat_minor": 5
}
